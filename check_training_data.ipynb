{
 "cells": [
  {
   "cell_type": "code",
   "execution_count": 1,
   "id": "2c8cb0bb",
   "metadata": {},
   "outputs": [],
   "source": [
    "import os\n",
    "import numpy as np\n",
    "import matplotlib.pyplot as plt\n",
    "from tqdm import tqdm"
   ]
  },
  {
   "cell_type": "code",
   "execution_count": 2,
   "id": "a2984ed0",
   "metadata": {},
   "outputs": [],
   "source": [
    "# Load the data\n",
    "d = \"training_data/data\"\n",
    "data_arrays = []\n",
    "for file_name in os.listdir(d):\n",
    "    with open(os.path.join(d, file_name), \"rb\") as f:\n",
    "        data_arrays.append(np.frombuffer(f.read(), dtype=np.uint8))"
   ]
  },
  {
   "cell_type": "code",
   "execution_count": 3,
   "id": "2030772f",
   "metadata": {},
   "outputs": [
    {
     "name": "stderr",
     "output_type": "stream",
     "text": [
      "100%|█████████████████████████████████████████████████████████████████████████████████| 64/64 [00:00<00:00, 337.21it/s]\n"
     ]
    }
   ],
   "source": [
    "# Split the data\n",
    "all_games = []\n",
    "for d in tqdm(data_arrays):\n",
    "    all_games.extend(arr if i == 0 else arr[1:] for i, arr in enumerate(np.split(d, np.where(d == 255)[0])) if len(arr) > 1)"
   ]
  },
  {
   "cell_type": "code",
   "execution_count": 4,
   "id": "31a204ef",
   "metadata": {},
   "outputs": [
    {
     "data": {
      "text/plain": [
       "84000"
      ]
     },
     "execution_count": 4,
     "metadata": {},
     "output_type": "execute_result"
    }
   ],
   "source": [
    "len(all_games)"
   ]
  },
  {
   "cell_type": "code",
   "execution_count": 5,
   "id": "0dda5ed6",
   "metadata": {},
   "outputs": [
    {
     "data": {
      "text/plain": [
       "Text(0, 0.5, 'Number of games')"
      ]
     },
     "execution_count": 5,
     "metadata": {},
     "output_type": "execute_result"
    },
    {
     "data": {
      "image/png": "[encoded data removed]",
      "text/plain": [
       "<Figure size 640x480 with 1 Axes>"
      ]
     },
     "metadata": {},
     "output_type": "display_data"
    }
   ],
   "source": [
    "# See how the board size distribution is looking\n",
    "plt.hist([len(g)/3 for g in all_games])\n",
    "plt.xlabel(\"Board size\")\n",
    "plt.ylabel(\"Number of games\")"
   ]
  },
  {
   "cell_type": "code",
   "execution_count": 6,
   "id": "0ec7f305",
   "metadata": {},
   "outputs": [
    {
     "data": {
      "text/plain": [
       "(11.0, 72.0)"
      ]
     },
     "execution_count": 6,
     "metadata": {},
     "output_type": "execute_result"
    }
   ],
   "source": [
    "# These should be integers (and hopefully the min/max of the board generation range)\n",
    "min(len(g)/3 for g in all_games), max(len(g)/3 for g in all_games)"
   ]
  },
  {
   "cell_type": "code",
   "execution_count": 7,
   "id": "03f0837c",
   "metadata": {},
   "outputs": [],
   "source": [
    "def board_to_string(b: np.ndarray):\n",
    "    \"\"\"Converts a `b`oard numpy array to a string representation\"\"\"\n",
    "    min_row = b[::3].min()\n",
    "    max_row = b[::3].max()\n",
    "    min_col = b[1::3].min()\n",
    "    max_col = b[1::3].max()\n",
    "    arr = [[' ' for _ in range(min_col, max_col+1)] for _ in range(min_row, max_row+1)]\n",
    "    for i in range(0, len(b), 3):\n",
    "        arr[b[i]-min_row][b[i+1]-min_col] = chr(b[i+2]+65)\n",
    "    return \"\\n\".join(\"\".join(a) for a in arr)"
   ]
  },
  {
   "cell_type": "code",
   "execution_count": 8,
   "id": "a9b29580",
   "metadata": {},
   "outputs": [
    {
     "name": "stdout",
     "output_type": "stream",
     "text": [
      "          J     \n",
      "   CANCELLATIONS\n",
      "   U      W     \n",
      "   T            \n",
      "   T            \n",
      "MUTE            \n",
      "   R            \n"
     ]
    }
   ],
   "source": [
    "print(board_to_string(all_games[1234]))"
   ]
  }
 ],
 "metadata": {
  "kernelspec": {
   "display_name": "Python 3 (ipykernel)",
   "language": "python",
   "name": "python3"
  },
  "language_info": {
   "codemirror_mode": {
    "name": "ipython",
    "version": 3
   },
   "file_extension": ".py",
   "mimetype": "text/x-python",
   "name": "python",
   "nbconvert_exporter": "python",
   "pygments_lexer": "ipython3",
   "version": "3.7.10"
  }
 },
 "nbformat": 4,
 "nbformat_minor": 5
}
