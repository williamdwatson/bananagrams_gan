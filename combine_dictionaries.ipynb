{
 "cells": [
  {
   "cell_type": "code",
   "execution_count": 1,
   "id": "8cc2f742",
   "metadata": {},
   "outputs": [],
   "source": [
    "import string"
   ]
  },
  {
   "cell_type": "code",
   "execution_count": 2,
   "id": "847ff0b6",
   "metadata": {},
   "outputs": [],
   "source": [
    "with open(\"short_dictionary.txt\", \"r\") as f:\n",
    "    words = set(line.strip().upper() for line in f.readlines())"
   ]
  },
  {
   "cell_type": "code",
   "execution_count": 3,
   "id": "1fd4a745",
   "metadata": {},
   "outputs": [
    {
     "data": {
      "text/plain": [
       "14941"
      ]
     },
     "execution_count": 3,
     "metadata": {},
     "output_type": "execute_result"
    }
   ],
   "source": [
    "len(words)"
   ]
  },
  {
   "cell_type": "code",
   "execution_count": 4,
   "id": "3713132e",
   "metadata": {},
   "outputs": [
    {
     "name": "stdout",
     "output_type": "stream",
     "text": [
      "After 5000-more-common: 16065\n",
      "After globish: 16080\n",
      "After simplified_english: 16127\n",
      "After special_english: 16145\n",
      "After basic_english_850: 16146\n",
      "After basic_english_2000: 16346\n",
      "After doublet_words: 17964\n",
      "After unique_grams: 18011\n",
      "After 200-less-common: 18181\n"
     ]
    }
   ],
   "source": [
    "for filename in (\"5000-more-common\", \"globish\", \"simplified_english\", \"special_english\", \"basic_english_850\",\n",
    "                 \"basic_english_2000\", \"doublet_words\", \"unique_grams\", \"200-less-common\"):\n",
    "    with open(f\"{filename}.txt\", \"r\") as f:\n",
    "        # Add all words from the line-separated file to the current word list so long as they're longer than 4 letters\n",
    "        # and have no non-letter characters\n",
    "        words.update(line for line in map(str.upper, map(str.strip, f.readlines())) if len(line) > 4 and all(c in string.ascii_uppercase for c in line))\n",
    "    print(f\"After {filename}: {len(words)}\")"
   ]
  },
  {
   "cell_type": "code",
   "execution_count": 5,
   "id": "ad5becef",
   "metadata": {},
   "outputs": [],
   "source": [
    "with open(\"new_short_dictionary.txt\", \"w\") as f:\n",
    "    f.write(\"\\n\".join(sorted(words)))"
   ]
  }
 ],
 "metadata": {
  "kernelspec": {
   "display_name": "Python 3 (ipykernel)",
   "language": "python",
   "name": "python3"
  },
  "language_info": {
   "codemirror_mode": {
    "name": "ipython",
    "version": 3
   },
   "file_extension": ".py",
   "mimetype": "text/x-python",
   "name": "python",
   "nbconvert_exporter": "python",
   "pygments_lexer": "ipython3",
   "version": "3.7.10"
  }
 },
 "nbformat": 4,
 "nbformat_minor": 5
}
